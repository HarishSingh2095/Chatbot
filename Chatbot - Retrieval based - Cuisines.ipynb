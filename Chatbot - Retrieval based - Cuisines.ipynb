{
 "cells": [
  {
   "cell_type": "markdown",
   "id": "ab093c4c",
   "metadata": {},
   "source": [
    "# Retreival based Chatbot"
   ]
  },
  {
   "cell_type": "code",
   "execution_count": 1,
   "id": "27648b13",
   "metadata": {},
   "outputs": [],
   "source": [
    "import numpy as np\n",
    "import nltk\n",
    "import random\n",
    "import string\n",
    "\n",
    "import bs4 as bs\n",
    "import urllib.request\n",
    "import re"
   ]
  },
  {
   "cell_type": "code",
   "execution_count": 2,
   "id": "6fa7944d",
   "metadata": {},
   "outputs": [],
   "source": [
    "raw_html = urllib.request.urlopen('https://en.wikipedia.org/wiki/Cuisine')\n",
    "raw_html = raw_html.read()"
   ]
  },
  {
   "cell_type": "code",
   "execution_count": 3,
   "id": "43d38e02",
   "metadata": {},
   "outputs": [],
   "source": [
    "article_html = bs.BeautifulSoup(raw_html, 'lxml')\n",
    "\n",
    "article_paragraphs = article_html.find_all('p')\n",
    "\n",
    "article_text = ''\n",
    "\n",
    "for para in article_paragraphs:\n",
    "    article_text += para.text\n",
    "\n",
    "article_text = article_text.lower()"
   ]
  },
  {
   "cell_type": "code",
   "execution_count": 4,
   "id": "56337028",
   "metadata": {},
   "outputs": [],
   "source": [
    "# Step 2 : Text Preprocessing and Helper Function\n",
    "\n",
    "article_text = re.sub(r'\\[[0-9]*\\]', ' ', article_text)\n",
    "article_text = re.sub(r'\\s+', ' ', article_text)"
   ]
  },
  {
   "cell_type": "code",
   "execution_count": 5,
   "id": "f66da291",
   "metadata": {},
   "outputs": [],
   "source": [
    "article_sentences = nltk.sent_tokenize(article_text)\n",
    "article_words = nltk.word_tokenize(article_text)"
   ]
  },
  {
   "cell_type": "code",
   "execution_count": 6,
   "id": "b1f0523b",
   "metadata": {},
   "outputs": [],
   "source": [
    "wnlemmatizer = nltk.stem.WordNetLemmatizer()\n",
    "\n",
    "def perform_lemmatization(tokens):\n",
    "    return [wnlemmatizer.lemmatize(token) for token in tokens]\n",
    "\n",
    "punctuation_removal = dict((ord(punctuation), None) for punctuation in string.punctuation)\n",
    "\n",
    "def get_processed_text(document):\n",
    "    return perform_lemmatization(nltk.word_tokenize(document.lower().translate(punctuation_removal)))"
   ]
  },
  {
   "cell_type": "code",
   "execution_count": 7,
   "id": "3a55d7e5",
   "metadata": {},
   "outputs": [],
   "source": [
    "greeting_inputs = (\"hey\", \"good morning\", \"good evening\", \"morning\", \"evening\", \"hi\", \"whatsup\", \"hello\")\n",
    "greeting_responses = [\"hey\", \"hey hows you?\", \"*nods*\", \"hello, how you doing\", \"hello\", \"Welcome, I am good and you\"]\n",
    "\n",
    "def generate_greeting_response(greeting):\n",
    "    for token in greeting.split():\n",
    "        if token.lower() in greeting_inputs:\n",
    "            return random.choice(greeting_responses)"
   ]
  },
  {
   "cell_type": "code",
   "execution_count": 8,
   "id": "faa97a7c",
   "metadata": {},
   "outputs": [],
   "source": [
    "from sklearn.feature_extraction.text import TfidfVectorizer\n",
    "from sklearn.metrics.pairwise import cosine_similarity"
   ]
  },
  {
   "cell_type": "code",
   "execution_count": 9,
   "id": "75e08a22",
   "metadata": {},
   "outputs": [],
   "source": [
    "def generate_response(user_input):\n",
    "    tennisrobo_response = ''\n",
    "    article_sentences.append(user_input)\n",
    "\n",
    "    word_vectorizer = TfidfVectorizer(tokenizer=get_processed_text, stop_words='english')\n",
    "    all_word_vectors = word_vectorizer.fit_transform(article_sentences)\n",
    "    similar_vector_values = cosine_similarity(all_word_vectors[-1], all_word_vectors)\n",
    "    similar_sentence_number = similar_vector_values.argsort()[0][-2]\n",
    "\n",
    "    matched_vector = similar_vector_values.flatten()\n",
    "    matched_vector.sort()\n",
    "    vector_matched = matched_vector[-2]\n",
    "\n",
    "    if vector_matched == 0:\n",
    "        tennisrobo_response = tennisrobo_response + \"I am sorry, I could not understand you\"\n",
    "        return tennisrobo_response\n",
    "    else:\n",
    "        tennisrobo_response = tennisrobo_response + article_sentences[similar_sentence_number]\n",
    "        return tennisrobo_response"
   ]
  },
  {
   "cell_type": "code",
   "execution_count": 10,
   "id": "d3dd9550",
   "metadata": {},
   "outputs": [
    {
     "name": "stderr",
     "output_type": "stream",
     "text": [
      "C:\\Users\\singhegm\\Anaconda_new\\lib\\site-packages\\sklearn\\feature_extraction\\text.py:388: UserWarning: Your stop_words may be inconsistent with your preprocessing. Tokenizing the stop words generated tokens ['ha', 'le', 'u', 'wa'] not in stop_words.\n",
      "  warnings.warn('Your stop_words may be inconsistent with '\n"
     ]
    }
   ],
   "source": [
    "word_vectorizer = TfidfVectorizer(tokenizer=get_processed_text, stop_words='english')\n",
    "all_word_vectors = word_vectorizer.fit_transform(article_sentences)"
   ]
  },
  {
   "cell_type": "code",
   "execution_count": 11,
   "id": "3f4240d9",
   "metadata": {},
   "outputs": [],
   "source": [
    "similar_vector_values = cosine_similarity(all_word_vectors[-1], all_word_vectors)"
   ]
  },
  {
   "cell_type": "code",
   "execution_count": 12,
   "id": "82bdf279",
   "metadata": {},
   "outputs": [],
   "source": [
    "similar_sentence_number = similar_vector_values.argsort()[0][-2]"
   ]
  },
  {
   "cell_type": "code",
   "execution_count": 13,
   "id": "304204bb",
   "metadata": {},
   "outputs": [
    {
     "name": "stdout",
     "output_type": "stream",
     "text": [
      "Hello, I am your friend Foodie. You can ask me any question regarding Cuisines:\n",
      "Hello\n",
      "Foodie : hey\n",
      "what are cuisines?\n",
      "Foodie : the regional cuisines are north american cuisine, mexican cuisine, central american cuisine, south american cuisine, and caribbean cuisine.\n",
      "cuisines\n",
      "Foodie : the regional cuisines are north american cuisine, mexican cuisine, central american cuisine, south american cuisine, and caribbean cuisine.\n",
      "best cuisine\n",
      "Foodie : the regional cuisines are north american cuisine, mexican cuisine, central american cuisine, south american cuisine, and caribbean cuisine.\n",
      "Tanzania\n",
      "Foodie : typical ethiopian and eritrean cuisine: injera (thin pancake-like bread) and several kinds of wat (stew) a ramadan dinner in tanzania yassa is a popular dish throughout west africa prepared with chicken or fish.\n",
      "Guangdong's\n",
      "Foodie : due to guangdong's location on the southern coast of china, fresh live seafood is a specialty in cantonese cuisine.\n",
      "Chiang Mai\n",
      "Foodie : a market stall at thanin market in chiang mai, thailand, selling ready-cooked food.\n",
      "bye\n",
      "Foodie : Good bye and take care of yourself...\n"
     ]
    }
   ],
   "source": [
    "continue_dialogue = True\n",
    "print(\"Hello, I am your friend Foodie. You can ask me any question regarding Cuisines:\")\n",
    "while(continue_dialogue == True):\n",
    "    human_text = input()\n",
    "    human_text = human_text.lower()\n",
    "    if human_text != 'bye':\n",
    "        if human_text == 'thanks' or human_text == 'thank you very much' or human_text == 'thank you':\n",
    "            continue_dialogue = False\n",
    "            print(\"Foodie : Most welcome\")\n",
    "        else:\n",
    "            if generate_greeting_response(human_text) != None:\n",
    "                print(\"Foodie : \" + generate_greeting_response(human_text))\n",
    "            else:\n",
    "                print(\"Foodie : \", end=\"\")\n",
    "                print(generate_response(human_text))\n",
    "                article_sentences.remove(human_text)\n",
    "    else:\n",
    "        continue_dialogue = False\n",
    "        print(\"Foodie : Good bye and take care of yourself...\")"
   ]
  }
 ],
 "metadata": {
  "kernelspec": {
   "display_name": "Python 3",
   "language": "python",
   "name": "python3"
  },
  "language_info": {
   "codemirror_mode": {
    "name": "ipython",
    "version": 3
   },
   "file_extension": ".py",
   "mimetype": "text/x-python",
   "name": "python",
   "nbconvert_exporter": "python",
   "pygments_lexer": "ipython3",
   "version": "3.8.8"
  }
 },
 "nbformat": 4,
 "nbformat_minor": 5
}
